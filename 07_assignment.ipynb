{
  "nbformat": 4,
  "nbformat_minor": 0,
  "metadata": {
    "colab": {
      "name": "07_assignment.ipynb",
      "provenance": [],
      "include_colab_link": true
    },
    "kernelspec": {
      "name": "python3",
      "display_name": "Python 3"
    }
  },
  "cells": [
    {
      "cell_type": "markdown",
      "metadata": {
        "id": "view-in-github",
        "colab_type": "text"
      },
      "source": [
        "<a href=\"https://colab.research.google.com/github/samato0624/DATA602/blob/main/07_assignment.ipynb\" target=\"_parent\"><img src=\"https://colab.research.google.com/assets/colab-badge.svg\" alt=\"Open In Colab\"/></a>"
      ]
    },
    {
      "cell_type": "markdown",
      "metadata": {
        "id": "rd2QZetSDszc"
      },
      "source": [
        "# **Assignment 7**\n",
        "\n",
        "# **Weeks 8 & 9 - Pandas**\n",
        "* In this homework assignment, you will explore and analyze a public dataset of your choosing. Since this assignment is “open-ended” in nature, you are free to expand upon the requirements below. However, you must meet the minimum requirments as indicated in each section.\n",
        "\n",
        "* You must use Pandas as the **primary tool** to process your data.\n",
        "\n",
        "* The preferred method for this analysis is in a .ipynb file. Feel free to use whichever platform of your choosing.  \n",
        " * https://www.youtube.com/watch?v=inN8seMm7UI (Getting started with Colab).\n",
        "\n",
        "* Your data should need some \"work\", or be considered \"dirty\".  You must show your skills in data cleaning/wrangling.\n",
        "\n",
        "### **Some data examples:**\n",
        "•\thttps://www.data.gov/\n",
        "\n",
        "•\thttps://opendata.cityofnewyork.us/\n",
        "\n",
        "•\thttps://datasetsearch.research.google.com/\n",
        "\n",
        "•\thttps://archive.ics.uci.edu/ml/index.php\n",
        "\n",
        "### **Resources:**\n",
        "\n",
        "•\thttps://pandas.pydata.org/pandas-docs/stable/getting_started/10min.html\n",
        "\n",
        "•\thttps://pandas.pydata.org/pandas-docs/stable/user_guide/visualization.html\n",
        "\n",
        "\n",
        "### **Headings or comments**\n",
        "**You are required to make use of comments, or headings for each section.  You must explain what your code is doing, and the results of running your code.**  Act as if you were giving this assignment to your manager - you must include clear and descriptive information for each section.\n",
        "\n",
        "### **You may work as a group or indivdually on this assignment.**\n"
      ]
    },
    {
      "cell_type": "markdown",
      "metadata": {
        "id": "uW3w6p8rqgxu"
      },
      "source": [
        "# Introduction\n",
        "\n",
        "In this section, please describe the dataset you are using.  Include a link to the source of this data.  You should also provide some explanation on why you chose this dataset."
      ]
    },
    {
      "cell_type": "markdown",
      "metadata": {
        "id": "L0PnfMOFzOXz"
      },
      "source": [
        "The dataset I'm using for this homework assignment contains electronic health records (EHRs) for patients diagnosed with and with out heart disease. Here is the link: https://www.kaggle.com/datasets/johnsmith88/heart-disease-dataset/data?select=heart.csv. In my line of work I help software engineers put together designs history files (DHFs), for algorithms that are considered medical devices, to submit to competent authourities. My main motivation for choosing this dataset is to learn more about metrics for heart health."
      ]
    },
    {
      "cell_type": "markdown",
      "metadata": {
        "id": "3bp8cdDxDs2t"
      },
      "source": [
        "______________\n",
        "# Data Exploration\n",
        "Import your dataset into your .ipynb, create dataframes, and explore your data.  \n",
        "\n",
        "Include:\n",
        "\n",
        "* Summary statistics means, medians, quartiles,\n",
        "* Missing value information\n",
        "* Any other relevant information about the dataset.  \n",
        "\n"
      ]
    },
    {
      "cell_type": "code",
      "metadata": {
        "id": "b0WTKtqozNn1"
      },
      "source": [
        "import pandas as pd\n",
        "\n",
        "# Import the data.\n",
        "data = pd.read_csv(\"https://raw.githubusercontent.com/samato0624/DATA602/main/heart.csv\")\n",
        "\n",
        "# Display data type to confirm it's a dataframe.\n",
        "print(\"Data type:\", type(data))\n",
        "\n",
        "# Display first few rows of the dataframe.\n",
        "print(\"\\nFirst few rows of the dataframe:\")\n",
        "print(data.head())\n",
        "\n",
        "# Provide summary statistics with mean, median, and quartiles.\n",
        "print(\"\\nSummary statistics:\")\n",
        "summary_stats = print(data[[\"age\", \"trestbps\", \"chol\", \"target\"]].groupby(\"target\").describe())\n",
        "print(summary_stats)\n",
        "\n",
        "# Show a dataframe containing missing data (the dataframe should be empty as there are no missing values).\n",
        "print(\"\\nSubset of rows with missing data:\")\n",
        "missing_data_subset = data[data.isnull().any(axis=1)]\n",
        "print(missing_data_subset.head())\n",
        "'''\n",
        "Here are simple explanations for what each column describes.\n",
        "1. age in years\n",
        "2. sex (1 = male; 0 = female)\n",
        "3. chest pain type (4 values)\n",
        "4. resting blood pressure (in mm Hg on admission to the hospital)\n",
        "5. serum cholestoral in mg/dl\n",
        "6. fasting blood sugar > 120 mg/dl (1 = true; 0 = false)\n",
        "7. resting electrocardiographic results (values 0,1,2)\n",
        "8. maximum heart rate achieved\n",
        "9. exercise induced angina (1 = yes; 0 = no)\n",
        "10. oldpeak = ST depression induced by exercise relative to rest\n",
        "11. the slope of the peak exercise ST segment\n",
        "12. number of major vessels (0-3) colored by flourosopy\n",
        "13. thal: 0 = normal; 1 = fixed defect; 2 = reversable defect\n",
        "14. target: 0 = no heart disease; 1 = heart disease\n",
        "'''"
      ],
      "execution_count": null,
      "outputs": []
    },
    {
      "cell_type": "markdown",
      "metadata": {
        "id": "kCSLIafaEGVK"
      },
      "source": [
        "# Data Wrangling\n",
        "Create a subset of your original data and perform the following.  \n",
        "\n",
        "1. Modify multiple column names.\n",
        "\n",
        "2. Look at the structure of your data – are any variables improperly coded? Such as strings or characters? Convert to correct structure if needed.\n",
        "\n",
        "3. Fix missing and invalid values in data.\n",
        "\n",
        "4. Create new columns based on existing columns or calculations.\n",
        "\n",
        "5. Drop column(s) from your dataset.\n",
        "\n",
        "6. Drop a row(s) from your dataset.\n",
        "\n",
        "7. Sort your data based on multiple variables.\n",
        "\n",
        "8. Filter your data based on some condition.\n",
        "\n",
        "9. Convert all the string values to upper or lower cases in one column.\n",
        "\n",
        "10. Check whether numeric values are present in a given column of your dataframe.\n",
        "\n",
        "11. Group your dataset by one column, and get the mean, min, and max values by group.\n",
        "  * Groupby()\n",
        "  * agg() or .apply()\n",
        "\n",
        "12. Group your dataset by two columns and then sort the aggregated results within the groups.\n",
        "\n",
        "**You are free (and should) to add on to these questions.  Please clearly indicate in your assignment your answers to these questions.**"
      ]
    },
    {
      "cell_type": "code",
      "metadata": {
        "id": "4VWWvvynEiQT"
      },
      "source": [
        "# Create a list of desired columns.\n",
        "columns_of_interest = [\"age\", \"sex\", \"cp\", \"trestbps\", \"fbs\", \"chol\", \"thalach\", \"target\"]\n",
        "\n",
        "# Remove duplicate rows (req 3 & 6 covered).\n",
        "data = data.drop_duplicates()\n",
        "\n",
        "# Replace row values in the column \"sex\" from 1 and 0 to male and female (req 2 covered).\n",
        "data[\"sex\"] = data[\"sex\"].replace({1: \"male\", 0: \"female\"})\n",
        "data[\"sex\"] = data[\"sex\"].astype(str)\n",
        "\n",
        "# Filter to the desired columns and create a new dataframe (req 5 covered).\n",
        "filtered_data = data[columns_of_interest]\n",
        "\n",
        "# Rename columns in use (req 1 covered).\n",
        "pd.options.mode.chained_assignment = None # Here I'm supressing a warning created by the line of code below.\n",
        "filtered_data.rename(columns={\"age\" : \"Age\", \"sex\" : \"Gender\", \"cp\" : \"Chest_pain_type\", \"trestbps\": \"Resting_blood_pressure\", \"fbs\" : \"Fasting_blood_glucose\", \"chol\" : \"Cholesterol\", \"thalach\" : \"Max_heart_rate\", \"target\" : \"Patient_has_heart_disease\"}, inplace=True)\n",
        "\n",
        "# Convert all values in the gender column from lowercase to uppercase (req 9 covered).\n",
        "filtered_data[\"Gender\"] = filtered_data[\"Gender\"].str.upper()\n",
        "\n",
        "# Sort the data by age in ascending order and cholesterol by descending order (req 7 covered).\n",
        "sorted_data = filtered_data.sort_values(by=[\"Age\", \"Cholesterol\"], ascending=[True, False])\n",
        "print(sorted_data.head())\n",
        "\n",
        "# Check for numeric values in a column (req 10).\n",
        "column_name = \"Gender\" # Column to look at.\n",
        "numeric_found = False\n",
        "for value in sorted_data[column_name]: #Loop through the values of the column to try and detect a number.\n",
        "    try:\n",
        "        pd.to_numeric(value)\n",
        "        numeric_found = True\n",
        "        break\n",
        "    except ValueError:\n",
        "        pass\n",
        "\n",
        "if numeric_found:\n",
        "    print(\"At least one numeric value found in the column '{}'.\".format(column_name))\n",
        "else:\n",
        "    print(\"No numeric values found in the column '{}'.\".format(column_name))\n",
        "\n",
        "# Create a new column defining the blood pressure as normal, pre-hypertension, or hypertension (req 4 covered).\n",
        "normal_threshold = 120\n",
        "pre_hypertension_threshold = 140\n",
        "sorted_data['Blood_pressure_category'] = pd.cut(sorted_data['Resting_blood_pressure'],\n",
        "                                         bins=[-float('inf'), normal_threshold, pre_hypertension_threshold, float('inf')],\n",
        "                                         labels=['Normal', 'Pre-hypertension', 'Hypertension'])\n",
        "print(sorted_data)\n",
        "\n",
        "# Filtering rows where 'Resting_blood_pressure' is greater than 140 (req 8 covered).\n",
        "condition = sorted_data['Resting_blood_pressure'] > 140\n",
        "filtered_data = sorted_data[condition]\n",
        "print(filtered_data)\n",
        "\n",
        "# Group by 'Patient_has_heart_disease' and calculate mean, min, and max values for each group (req 11 covered).\n",
        "grouped_data = sorted_data.groupby('Patient_has_heart_disease').agg({\n",
        "    'Age': ['mean', 'min', 'max'],\n",
        "    'Resting_blood_pressure': ['mean', 'min', 'max'],\n",
        "    'Cholesterol': ['mean', 'min', 'max']\n",
        "})\n",
        "grouped_data.columns = ['Age_mean', 'Age_min', 'Age_max', # change the column names for clarity.\n",
        "                        'Resting_blood_pressure_mean', 'Resting_blood_pressure_min', 'Resting_blood_pressure_max',\n",
        "                        'Cholesterol_mean', 'Cholesterol_min', 'Cholesterol_max']\n",
        "print(grouped_data)\n",
        "\n",
        "# Group by 'Patient_has_heart_disease' and 'Gender' and calculate mean, min, and max values for each group (req 12 covered)\n",
        "grouped_data = sorted_data.groupby(['Patient_has_heart_disease', 'Gender']).agg({\n",
        "    'Age': ['mean', 'min', 'max'],\n",
        "    'Resting_blood_pressure': ['mean', 'min', 'max'],\n",
        "    'Cholesterol': ['mean', 'min', 'max']\n",
        "})\n",
        "grouped_data.columns = ['Age_mean', 'Age_min', 'Age_max', # change the column names for clarity.\n",
        "                        'Resting_blood_pressure_mean', 'Resting_blood_pressure_min', 'Resting_blood_pressure_max',\n",
        "                        'Cholesterol_mean', 'Cholesterol_min', 'Cholesterol_max']\n",
        "print(grouped_data)"
      ],
      "execution_count": null,
      "outputs": []
    },
    {
      "cell_type": "markdown",
      "source": [
        "# Conclusions  \n",
        "\n",
        "After exploring your dataset, provide a short summary of what you noticed from this dataset.  What would you explore further with more time?"
      ],
      "metadata": {
        "id": "tujjevRpXEen"
      }
    },
    {
      "cell_type": "markdown",
      "source": [
        "After exploring the dataset I found that overall this dataset was mishandled. The heart disease diagnosis in the 'target' column is 1 for people who do not have heart disease and 0 for those who do.\n",
        "\n",
        "In terms of what I can gleen from the data,there seems to be approximately a 10% difference in the mean cholesterol and mean resting blood pressure for woman while men seems to have negligible differences in blood pressure (but a similiar difference in cholesterol) between those who are diagnosed with heart disease and those who aren't. I would further explore other factors beyond cholesterol and blood pressure for why certain men are experiencing heart disease as opposed to others."
      ],
      "metadata": {
        "id": "OHSnDCYCmj5r"
      }
    },
    {
      "cell_type": "code",
      "source": [],
      "metadata": {
        "id": "q9Ab2QzKoMXE"
      },
      "execution_count": 10,
      "outputs": []
    }
  ]
}